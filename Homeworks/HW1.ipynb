{
 "metadata": {
  "language_info": {
   "codemirror_mode": {
    "name": "ipython",
    "version": 3
   },
   "file_extension": ".py",
   "mimetype": "text/x-python",
   "name": "python",
   "nbconvert_exporter": "python",
   "pygments_lexer": "ipython3",
   "version": "3.9.2-final"
  },
  "orig_nbformat": 2,
  "kernelspec": {
   "name": "python3",
   "display_name": "Python 3.9.2 64-bit",
   "metadata": {
    "interpreter": {
     "hash": "fc310df5881191f6ee9cad5f9fea0332a543bf81cd4743c2ee24cbce8abbf572"
    }
   }
  }
 },
 "nbformat": 4,
 "nbformat_minor": 2,
 "cells": [
  {
   "source": [
    "1) How would you define Machine Learning?\n",
    "\n",
    "Makine öğrenmesi insanlığın işleyemeyeceği kadar büyük verileri işleyen ve bu verilerden gelecek verileri tahmin edebilen algoritmaların tasarımını konu alan bir bilim dalıdır. \n",
    "\n"
   ],
   "cell_type": "markdown",
   "metadata": {}
  },
  {
   "cell_type": "code",
   "execution_count": null,
   "metadata": {},
   "outputs": [],
   "source": []
  }
 ]
}